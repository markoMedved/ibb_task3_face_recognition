{
 "cells": [
  {
   "cell_type": "code",
   "execution_count": 1,
   "metadata": {},
   "outputs": [],
   "source": [
    "import cv2\n",
    "import pandas as pd\n",
    "import numpy as np\n",
    "import matplotlib.pyplot as plt"
   ]
  },
  {
   "cell_type": "markdown",
   "metadata": {},
   "source": [
    "FACE DETECTION"
   ]
  },
  {
   "cell_type": "code",
   "execution_count": 2,
   "metadata": {},
   "outputs": [],
   "source": [
    "def bounding_box_area(bounding_box):\n",
    "    return bounding_box[2] * bounding_box[3]"
   ]
  },
  {
   "cell_type": "code",
   "execution_count": 126,
   "metadata": {},
   "outputs": [],
   "source": [
    "#violajones face detection using opencv\n",
    "def detect_faces(image_path, scaleFactor=1.4, minNeighbors = 4, minSize = (10,10)):\n",
    "    #read image\n",
    "    image = cv2.imread(image_path)\n",
    "    #load the pre-trained model\n",
    "    face_cascade = cv2.CascadeClassifier(cv2.data.haarcascades + \"haarcascade_frontalface_default.xml\")\n",
    "    #convert the image to gray scale\n",
    "    gray_image = cv2.cvtColor(image, cv2.COLOR_BGR2GRAY)\n",
    "    #detect faces\n",
    "    faces = face_cascade.detectMultiScale(\n",
    "        gray_image,\n",
    "        scaleFactor=scaleFactor,\n",
    "        minNeighbors=minNeighbors,\n",
    "        minSize=minSize,\n",
    "    )\n",
    "\n",
    "    HEIGHT = image.shape[0]\n",
    "    WIDTH = image.shape[1]\n",
    "\n",
    "    #if no bounding boxes are found, take most of the image\n",
    "    if len(faces) == 0:\n",
    "        bbox = np.array([0.2*WIDTH,0.1*HEIGHT,0.6*WIDTH,0.8*HEIGHT]).astype(int)\n",
    "        return bbox\n",
    "    \n",
    "    #if more bounding boxes are found take the largest one \n",
    "    max_area_face = faces[0]\n",
    "    for face in faces:\n",
    "        if bounding_box_area(face) > bounding_box_area(max_area_face):\n",
    "            max_area_face = face\n",
    "    #return the bounding boxes\n",
    "    return max_area_face\n"
   ]
  },
  {
   "cell_type": "code",
   "execution_count": 4,
   "metadata": {},
   "outputs": [],
   "source": [
    "def compute_iou(box1, box2):\n",
    "    # determine the (x, y)-coordinates of the intersection rectangle\n",
    "    x1 = max(box1[0], box2[0])\n",
    "    y1 = max(box1[1], box2[1])\n",
    "    x2 = min(box1[0] + box1[2], box2[0] + box2[2])\n",
    "    y2 = min(box1[1] + box1[3], box2[1] + box2[3])\n",
    "\n",
    "    # compute the area of intersection rectangle\n",
    "    inter_area = max(0, x2 - x1) * max(0, y2 - y1)\n",
    "    #compute the area of both the prediction and ground-truth boxes\n",
    "    box1_area = box1[2] * box1[3]\n",
    "    box2_area = box2[2] * box2[3]\n",
    "\n",
    "    # compute the union area\n",
    "    union_area = box1_area + box2_area - inter_area\n",
    "    #return IoU\n",
    "    return inter_area / union_area if union_area > 0 else 0\n"
   ]
  },
  {
   "cell_type": "code",
   "execution_count": 5,
   "metadata": {},
   "outputs": [],
   "source": [
    "def evaluate_model(dataset, scaleFactor, minNeighbors, minSize):\n",
    "    #iou scores for each sample\n",
    "    iou_scores = []\n",
    "    for item in dataset[\"identity\"].unique():\n",
    "        #get all the samples for a particular identity\n",
    "        df = dataset[dataset[\"identity\"] == item]\n",
    "        \n",
    "        #for each sample of the same identity\n",
    "        for i in range(len(df)):            \n",
    "            path = \"data/\" + str(df.iloc[i][\"idx\"]) + \".jpg\"\n",
    "            # Ground truth (CNNs) bounding boxes\n",
    "            gt_box = [df.iloc[i][\"x_1\"], df.iloc[i][\"y_1\"], df.iloc[i][\"width\"], df.iloc[i][\"height\"]] \n",
    "            \n",
    "            # Detected bounding boxes with viola-jones\n",
    "            detected_face = detect_faces(path, scaleFactor, minNeighbors, minSize)\n",
    "            \n",
    "            #compute iou\n",
    "            iou = compute_iou(gt_box, detected_face)\n",
    "            \n",
    "                \n",
    "        iou_scores.append(iou)\n",
    "\n",
    "    avg_iou = np.mean(iou_scores) if iou_scores else 0\n",
    "    return avg_iou"
   ]
  },
  {
   "cell_type": "code",
   "execution_count": 223,
   "metadata": {},
   "outputs": [],
   "source": [
    "def optimize_parameters(dataset):\n",
    "    best_params = {}\n",
    "    best_iou = 0\n",
    "    #grid search for best parameters\n",
    "    for scaleFactor in [1.4]:\n",
    "        for minNeighbors in [4]:\n",
    "            for minSize in [(500,500)]:\n",
    "                avg_iou = evaluate_model(dataset, scaleFactor, minNeighbors, minSize)\n",
    "                print(f\"minNei{minNeighbors}, minSize{minSize}, scale{scaleFactor},iou{avg_iou}\")\n",
    "                if avg_iou > best_iou:\n",
    "                    best_iou = avg_iou\n",
    "                    #dict of best parameters\n",
    "                    best_params = {\n",
    "                        \"scaleFactor\": scaleFactor,\n",
    "                        \"minNeighbors\": minNeighbors,\n",
    "                        \"minSize\": minSize,\n",
    "                    }\n",
    "    return best_params, best_iou"
   ]
  },
  {
   "cell_type": "code",
   "execution_count": 7,
   "metadata": {},
   "outputs": [],
   "source": [
    "def test_model(dataset, best_params):\n",
    "    #test the model with the optimized parameters, calc avg iou\n",
    "    avg_iou = evaluate_model(\n",
    "        dataset,\n",
    "        best_params[\"scaleFactor\"],\n",
    "        best_params[\"minNeighbors\"],\n",
    "        best_params[\"minSize\"],\n",
    "    )\n",
    "    print(f\"Average IoU on test set: {avg_iou}\")"
   ]
  },
  {
   "cell_type": "code",
   "execution_count": 224,
   "metadata": {},
   "outputs": [
    {
     "name": "stdout",
     "output_type": "stream",
     "text": [
      "minNei4, minSize(500, 500), scale1.4,iou0.7028187684638405\n"
     ]
    }
   ],
   "source": [
    "# Load the dataset\n",
    "df = pd.read_csv('CelebA-HQ-small.csv')\n",
    "# Get the train split\n",
    "df_train = df.loc[df[\"split\"] == \"train\"]\n",
    "# train the model\n",
    "best_params, best_iou =  optimize_parameters(df_train)\n"
   ]
  },
  {
   "cell_type": "code",
   "execution_count": 13,
   "metadata": {},
   "outputs": [
    {
     "name": "stdout",
     "output_type": "stream",
     "text": [
      "Best parameters: {'scaleFactor': 1.4, 'minNeighbors': 4, 'minSize': (10, 10)}\n",
      "Best IoU on train set: 0.7028187684638405\n"
     ]
    }
   ],
   "source": [
    "print(f\"Best parameters: {best_params}\")\n",
    "print(f\"Best IoU on train set: {best_iou}\")"
   ]
  },
  {
   "cell_type": "code",
   "execution_count": 227,
   "metadata": {},
   "outputs": [],
   "source": [
    "best_params = {'scaleFactor': 1.4, 'minNeighbors': 4, 'minSize': (1000, 1000)}"
   ]
  },
  {
   "cell_type": "code",
   "execution_count": 228,
   "metadata": {},
   "outputs": [
    {
     "name": "stdout",
     "output_type": "stream",
     "text": [
      "Average IoU on test set: 0.7090209830543246\n"
     ]
    }
   ],
   "source": [
    "# Get the test split\n",
    "df_test = df.loc[df[\"split\"] == \"test\"]\n",
    "# test the model\n",
    "test_model(best_params=best_params, dataset=df_test)"
   ]
  },
  {
   "cell_type": "code",
   "execution_count": 198,
   "metadata": {},
   "outputs": [
    {
     "name": "stdout",
     "output_type": "stream",
     "text": [
      "Average IoU on test set: 0.6891934338268909\n"
     ]
    }
   ],
   "source": [
    "# Get the test split\n",
    "df_test = df.loc[df[\"split\"] == \"test\"]\n",
    "# test the model\n",
    "test_model(best_params=best_params, dataset=df_test)"
   ]
  },
  {
   "cell_type": "markdown",
   "metadata": {},
   "source": [
    "FEATURE EXTRACTION"
   ]
  },
  {
   "cell_type": "code",
   "execution_count": 94,
   "metadata": {},
   "outputs": [],
   "source": [
    "def chi2_distance_similarity(A, B):\n",
    "    try:\n",
    "        chi = 0.5 * np.sum([((a - b) ** 2) / (a + b + 1e-5) for (a, b) in zip(A, B)])\n",
    "    except:\n",
    "        print(A)\n",
    "        print(B)    \n",
    "    \n",
    "    return chi\n"
   ]
  },
  {
   "cell_type": "markdown",
   "metadata": {},
   "source": [
    "LBP"
   ]
  },
  {
   "cell_type": "code",
   "execution_count": 9,
   "metadata": {},
   "outputs": [],
   "source": [
    "from skimage.feature import local_binary_pattern\n"
   ]
  },
  {
   "cell_type": "code",
   "execution_count": 10,
   "metadata": {},
   "outputs": [],
   "source": [
    "def extract_features_lbp(image, n_points=24, radius=3 ,grid_size=(4,4)):\n",
    "\n",
    "    lbp = local_binary_pattern(image, n_points, radius, method=\"uniform\")   \n",
    "\n",
    "    features = []\n",
    "    bins = n_points + 2\n",
    "\n",
    "    height, width = lbp.shape\n",
    "\n",
    "    for wx in range(0,width,grid_size[0]):\n",
    "        for wy in range(0,height,grid_size[1]):\n",
    "            hist = np.zeros(bins)\n",
    "            for x in range(wx, min(wx + grid_size[0], width)):\n",
    "                for y in range(wy, min(wy + grid_size[1], height)):\n",
    "                    hist[int(lbp[y, x])] += 1\n",
    "            features.extend(hist)\n",
    "            \n",
    "    return np.array(features)\n",
    "    "
   ]
  },
  {
   "cell_type": "code",
   "execution_count": 11,
   "metadata": {},
   "outputs": [],
   "source": [
    "def extract_lbp_features(image, radius=3, n_points=24, method='uniform', grid_size=(4, 4)):\n",
    "    h, w = image.shape\n",
    "    cell_h, cell_w = h // grid_size[0], w // grid_size[1]\n",
    "    lbp_features = []\n",
    "\n",
    "    # Compute LBP for the whole image\n",
    "    lbp = local_binary_pattern(image, n_points, radius, method)\n",
    "\n",
    "    # Loop through each grid cell\n",
    "    for i in range(grid_size[0]):\n",
    "        for j in range(grid_size[1]):\n",
    "            # Extract the cell region from the LBP image\n",
    "            cell = lbp[i * cell_h:(i + 1) * cell_h, j * cell_w:(j + 1) * cell_w]\n",
    "\n",
    "            # Compute the histogram for the cell\n",
    "            lbp_hist, _ = np.histogram(cell.ravel(),\n",
    "                                       bins=np.arange(0, n_points + 3),\n",
    "                                       range=(0, n_points + 2))\n",
    "\n",
    "            #normalize the histogram\n",
    "            lbp_hist = lbp_hist.astype('float')\n",
    "            lbp_hist /= (lbp_hist.sum() + 1e-6)\n",
    "\n",
    "            # Append to the features list\n",
    "            lbp_features.extend(lbp_hist)\n",
    "\n",
    "    return np.array(lbp_features)\n"
   ]
  },
  {
   "cell_type": "code",
   "execution_count": 75,
   "metadata": {},
   "outputs": [],
   "source": [
    "def preprocess_image(image_path,bounding_box, target_size=(128, 128),useBoundingBox=True):\n",
    "\n",
    "    # Read the image\n",
    "    image = cv2.imread(image_path)\n",
    "    if image is None:\n",
    "        raise ValueError(\"Image not found or unable to read.\")\n",
    "    \n",
    "    # Convert to grayscale\n",
    "    gray_image = cv2.cvtColor(image, cv2.COLOR_BGR2GRAY)\n",
    "    \n",
    "        \n",
    "    if useBoundingBox:\n",
    "        x1 =  bounding_box[0]\n",
    "        y1 = bounding_box[1]\n",
    "        width = bounding_box[2]\n",
    "        height = bounding_box[3]\n",
    "        gray_image = gray_image[x1:x1+width, y1:y1+height]\n",
    "    \n",
    "\n",
    "    # Resize the image\n",
    "    gray_image = cv2.resize(gray_image, target_size)\n",
    "    \n",
    "    return gray_image"
   ]
  },
  {
   "cell_type": "code",
   "execution_count": 44,
   "metadata": {},
   "outputs": [],
   "source": [
    "def extract_all_feature_vectors_lbp(dataset, n_points=8, radius=1, grid_size=(4,4), useBoundingBox=True):\n",
    "    feature_vectors = []\n",
    "    image_ids = []\n",
    "    for i in range(len(dataset)):   \n",
    "        path = \"data/\" + str(dataset.iloc[i][\"idx\"]) + \".jpg\"\n",
    "        # Detected bounding boxes with viola-jones\n",
    "        detected_face = detect_faces(path)\n",
    "        image_ids.append(dataset.iloc[i][\"identity\"])\n",
    "        image = preprocess_image(path, detected_face, useBoundingBox=useBoundingBox)\n",
    "        feature_vectors.append(extract_lbp_features(image, radius=radius, n_points=n_points, grid_size=grid_size))#, radius=radius, n_points=n_points, grid_size=grid_size))\n",
    "        \n",
    "    return np.array(feature_vectors), image_ids\n",
    "\n"
   ]
  },
  {
   "cell_type": "code",
   "execution_count": 61,
   "metadata": {},
   "outputs": [],
   "source": [
    "def euclidean_distance(features1,features2):\n",
    "    return np.linalg.norm(features1 - features2)"
   ]
  },
  {
   "cell_type": "code",
   "execution_count": 60,
   "metadata": {},
   "outputs": [],
   "source": [
    "def get_scores_mtx(image_mtx,image_ids, method=\"chi\"):\n",
    "    df = pd.DataFrame(np.zeros(len(image_mtx)),columns=[\"identity\"])\n",
    "    dict_of_new_cols  ={}\n",
    "    for i in range(len(image_mtx)):\n",
    "        tmp = []\n",
    "        \n",
    "        row_tst = image_mtx[i]\n",
    "        for j in range(len(image_mtx)):\n",
    "            row_train = image_mtx[j]\n",
    "            if i == j:\n",
    "                tmp.append(np.inf)\n",
    "            elif method == \"chi\":\n",
    "                tmp.append(chi2_distance_similarity(row_tst, row_train))\n",
    "            elif method == \"euc\":\n",
    "                tmp.append(euclidean_distance(row_tst, row_train))\n",
    "                \n",
    "            if i == 0:\n",
    "                df.iloc[j] = {\"identity\":int(image_ids[j])}\n",
    "        dict_of_new_cols[str(i)] = tmp\n",
    "        #df[str(i)] = tmp\n",
    "\n",
    "\n",
    "    df_tmp = pd.DataFrame(dict_of_new_cols)\n",
    "    df = pd.concat([df,df_tmp],axis=1)\n",
    "    #take min, also possible mean        \n",
    "        \n",
    "    df_grp = df.groupby(\"identity\").min()\n",
    "    df_grp = df_grp.reset_index()\n",
    "\n",
    "    return df_grp\n"
   ]
  },
  {
   "cell_type": "code",
   "execution_count": 155,
   "metadata": {},
   "outputs": [],
   "source": [
    "def get_cmc(df_scores, image_ids):\n",
    "    cmc = []\n",
    "    for rank in range(1,len(df_scores+1)):\n",
    "        prob = 0\n",
    "        for i, col in enumerate(df_scores.drop(\"identity\", axis=1).columns):\n",
    "            id = df_scores.nsmallest(rank, col)[\"identity\"].values.astype(int)\n",
    "            corr_id = image_ids[i]\n",
    "\n",
    "            if corr_id in id:\n",
    "                prob += 1 \n",
    "        prob /= len(image_ids)\n",
    "        if rank == 1:\n",
    "            rank1 = prob\n",
    "\n",
    "        if rank == 5:\n",
    "            rank5 = prob\n",
    "        cmc.append(prob)\n",
    "    return cmc, rank1, rank5\n"
   ]
  },
  {
   "cell_type": "code",
   "execution_count": null,
   "metadata": {},
   "outputs": [],
   "source": [
    "#findig best params, by plotting cmc and printing ra1,r5\n",
    "def optimize_lbp(train_dataset, bbox = True):\n",
    "    cmcs = []\n",
    "    legends = []\n",
    "    for (n_points, r) in zip([4,8,12,16,24], [1,1,1.5,2,3]):\n",
    "            for grid_size in [(4,4), (8,8), (16,16), (24,24)]:\n",
    "                feature_vecs,image_ids = extract_all_feature_vectors_lbp(train_dataset, n_points=n_points, radius=r, grid_size=grid_size, useBoundingBox=bbox)\n",
    "                df = get_scores_mtx(feature_vecs, image_ids)\n",
    "                cmc, rank1,rank5 = get_cmc(df, image_ids)\n",
    "                print(f\" rank 1= {rank1} for r={r}, n_points={n_points}, grid_size={grid_size}\")\n",
    "                cmcs.append(cmc)\n",
    "                legends.append(f\"r={r}, n_points={n_points}, grid_size={grid_size}\")\n",
    "    return cmcs,legends"
   ]
  },
  {
   "cell_type": "code",
   "execution_count": 49,
   "metadata": {},
   "outputs": [],
   "source": [
    "def test_lbp_return_cmc(test_dataset,n_points=24, radius=3, grid_size=(8,8), bbox = True):\n",
    "    feature_vecs,image_ids = extract_all_feature_vectors_lbp(test_dataset, n_points=n_points, radius=radius, grid_size=grid_size, useBoundingBox=bbox)\n",
    "    df = get_scores_mtx(feature_vecs, image_ids)\n",
    "    return get_cmc(df, image_ids)"
   ]
  },
  {
   "cell_type": "code",
   "execution_count": null,
   "metadata": {},
   "outputs": [],
   "source": [
    "cmcs, legends = optimize_lbp(df_train)"
   ]
  },
  {
   "cell_type": "code",
   "execution_count": null,
   "metadata": {},
   "outputs": [],
   "source": [
    "#ploting all cmcs from optimizing\n",
    "plt.figure(figsize=(20,15))\n",
    "plt.title(\"cmc of multiple parameters\")\n",
    "plt.xlabel(\"Rank\")\n",
    "plt.ylabel(\"Accuracy\")\n",
    "for cmc, legend in zip(cmcs, legends):\n",
    "    print(\"For parameters: \" + legend)\n",
    "    print(f\"Rank 1 is: {cmc[0]} rank 5 is: {cmc[4]}\")\n",
    "    plt.plot(range(len(cmc)), cmc, label=legend)\n",
    "\n",
    "plt.legend(loc='center left', bbox_to_anchor=(1, 0.5), title=\"Parameters\")\n",
    "plt.tight_layout()  \n",
    "plt.show()"
   ]
  },
  {
   "cell_type": "code",
   "execution_count": null,
   "metadata": {},
   "outputs": [],
   "source": [
    "cmc_lbp_best = test_lbp_return_cmc(df_test)"
   ]
  },
  {
   "cell_type": "code",
   "execution_count": null,
   "metadata": {},
   "outputs": [],
   "source": [
    "# without box\n",
    "cmcs, legends = optimize_lbp(df_train, bbox=False)"
   ]
  },
  {
   "cell_type": "code",
   "execution_count": null,
   "metadata": {},
   "outputs": [],
   "source": [
    "#ploting all cmcs from optimizing\n",
    "plt.figure(figsize=(20,15))\n",
    "plt.title(\"cmc of multiple parameters\")\n",
    "plt.xlabel(\"Rank\")\n",
    "plt.ylabel(\"Accuracy\")\n",
    "for cmc, legend in zip(cmcs, legends):\n",
    "    print(\"For parameters: \" + legend)\n",
    "    print(f\"Rank 1 is: {cmc[0]} rank 5 is: {cmc[4]}\")\n",
    "    plt.plot(range(len(cmc)), cmc, label=legend)\n",
    "\n",
    "plt.legend(loc='center left', bbox_to_anchor=(1, 0.5), title=\"Parameters\")\n",
    "plt.tight_layout()  \n",
    "plt.show()"
   ]
  },
  {
   "cell_type": "code",
   "execution_count": null,
   "metadata": {},
   "outputs": [],
   "source": [
    "cmc_lbp_best_no_box = test_lbp_return_cmc(df_test,bbox=False)"
   ]
  },
  {
   "cell_type": "markdown",
   "metadata": {},
   "source": [
    "Histogram of oriented gradients - HOG"
   ]
  },
  {
   "cell_type": "code",
   "execution_count": 24,
   "metadata": {},
   "outputs": [],
   "source": [
    "from skimage.feature import hog\n",
    "import matplotlib.pyplot as plt"
   ]
  },
  {
   "cell_type": "code",
   "execution_count": null,
   "metadata": {},
   "outputs": [],
   "source": [
    "def extract_all_feature_vectors_hog(dataset,orentations=8,pixels_per_cell=(16, 16),cells_per_block=(1, 1), useBoundingBox=True):\n",
    "    feature_vectors = []\n",
    "    image_ids = []\n",
    "    for i in range(len(dataset)):   \n",
    "        path = \"data/\" + str(dataset.iloc[i][\"idx\"]) + \".jpg\"\n",
    "        # Detected bounding boxes with viola-jones\n",
    "        detected_face = detect_faces(path)\n",
    "        image_ids.append(dataset.iloc[i][\"identity\"])\n",
    "        image = preprocess_image(path, detected_face, useBoundingBox=useBoundingBox)\n",
    "\n",
    "        feature_vectors.append(hog(\n",
    "            image,\n",
    "            orientations=orentations,\n",
    "            pixels_per_cell=pixels_per_cell,\n",
    "            cells_per_block=cells_per_block\n",
    "        ))\n",
    "        \n",
    "    return np.array(feature_vectors), image_ids"
   ]
  },
  {
   "cell_type": "code",
   "execution_count": null,
   "metadata": {},
   "outputs": [],
   "source": [
    "#findig best params, by plotting cmc and printing ra1,r5\n",
    "def optimize_hog(train_dataset, bbox = True):\n",
    "    cmcs = []\n",
    "    legends = []\n",
    "    for orientations in [6,8,9,12,16]:\n",
    "        for pixels_per_cell in [(4,4), (8,8), (16,16)]:\n",
    "            for cells_per_block in [(2,2), (3,3)]:\n",
    "                feature_vecs,image_ids = extract_all_feature_vectors_hog(train_dataset,orientations=orientations, pixels_per_cell=pixels_per_cell, cells_per_block=cells_per_block ,useBoundingBox=bbox)\n",
    "                df = get_scores_mtx(feature_vecs, image_ids)\n",
    "                cmc, rank1,rank5 = get_cmc(df, image_ids)\n",
    "                cmcs.append(cmc)\n",
    "                legends.append(f\"orentations={orientations}, cells_per_block={cells_per_block}, pixels_per_cell={pixels_per_cell}\")\n",
    "                print(f\" rank 1= {rank1} orentations={orientations}, cells_per_block={cells_per_block}, pixels_per_cell={pixels_per_cell}\")\n",
    "    return cmcs,legends"
   ]
  },
  {
   "cell_type": "code",
   "execution_count": null,
   "metadata": {},
   "outputs": [],
   "source": [
    "def test_hog_return_cmc(test_dataset,orientations=8,pixels_per_cell=(16, 16),cells_per_block=(1, 1), useBoundingBox=True):\n",
    "    feature_vecs,image_ids = extract_all_feature_vectors_hog(test_dataset,orientations=orientations, pixels_per_cell=pixels_per_cell, cells_per_block=cells_per_block ,useBoundingBox=bbox)\n",
    "    df = get_scores_mtx(feature_vecs, image_ids)\n",
    "    return get_cmc(df, image_ids)\n"
   ]
  },
  {
   "cell_type": "code",
   "execution_count": null,
   "metadata": {},
   "outputs": [],
   "source": [
    "cmcs, legends = optimize_hog(df_train)"
   ]
  },
  {
   "cell_type": "code",
   "execution_count": null,
   "metadata": {},
   "outputs": [],
   "source": [
    "#ploting all cmcs from optimizing\n",
    "plt.figure(figsize=(20,15))\n",
    "plt.title(\"cmc of multiple parameters\")\n",
    "plt.xlabel(\"Rank\")\n",
    "plt.ylabel(\"Accuracy\")\n",
    "for cmc, legend in zip(cmcs, legends):\n",
    "    print(\"For parameters: \" + legend)\n",
    "    print(f\"Rank 1 is: {cmc[0]} rank 5 is: {cmc[4]}\")\n",
    "    plt.plot(range(len(cmc)), cmc, label=legend)\n",
    "\n",
    "plt.legend(loc='center left', bbox_to_anchor=(1, 0.5), title=\"Parameters\")\n",
    "plt.tight_layout()  \n",
    "plt.show()"
   ]
  },
  {
   "cell_type": "code",
   "execution_count": null,
   "metadata": {},
   "outputs": [],
   "source": [
    "cmc_hog_best = test_hog_return_cmc(df_test)"
   ]
  },
  {
   "cell_type": "code",
   "execution_count": null,
   "metadata": {},
   "outputs": [],
   "source": [
    "cmcs, legends = optimize_hog(df_train, bbox=False)"
   ]
  },
  {
   "cell_type": "code",
   "execution_count": null,
   "metadata": {},
   "outputs": [],
   "source": [
    "#ploting all cmcs from optimizing\n",
    "plt.figure(figsize=(20,15))\n",
    "plt.title(\"cmc of multiple parameters\")\n",
    "plt.xlabel(\"Rank\")\n",
    "plt.ylabel(\"Accuracy\")\n",
    "for cmc, legend in zip(cmcs, legends):\n",
    "    print(\"For parameters: \" + legend)\n",
    "    print(f\"Rank 1 is: {cmc[0]} rank 5 is: {cmc[4]}\")\n",
    "    plt.plot(range(len(cmc)), cmc, label=legend)\n",
    "\n",
    "plt.legend(loc='center left', bbox_to_anchor=(1, 0.5), title=\"Parameters\")\n",
    "plt.tight_layout()  \n",
    "plt.show()"
   ]
  },
  {
   "cell_type": "code",
   "execution_count": null,
   "metadata": {},
   "outputs": [],
   "source": [
    "cmc_hog_best_no_box = test_hog_return_cmc(df_test)"
   ]
  },
  {
   "cell_type": "code",
   "execution_count": null,
   "metadata": {},
   "outputs": [],
   "source": [
    "def extract_features_dense_sift(image, step_size = 8, window_size_overlap=2):\n",
    "    window_dim = step_size*window_size_overlap\n",
    "\n",
    "    h,w = image.shape\n",
    "\n",
    "    sift =  cv2.SIFT_create()\n",
    "    features = []\n",
    "    keypoints = []\n",
    "    for y in range(0, h, step_size):\n",
    "        for x in range(0, w, step_size):\n",
    "            kp = cv2.KeyPoint(x,y, window_dim)\n",
    "            keypoints.append(kp)\n",
    "   \n",
    "    _,features = sift.compute(image, keypoints)\n",
    "    \n",
    "    return features\n"
   ]
  },
  {
   "cell_type": "code",
   "execution_count": 178,
   "metadata": {},
   "outputs": [],
   "source": [
    "def extract_all_feature_vectors_dense_sift(dataset,useBoundingBox=True):\n",
    "    feature_vectors = []\n",
    "    image_ids = []\n",
    "    for i in range(len(dataset)):   \n",
    "        \n",
    "        path = \"data/\" + str(dataset.iloc[i][\"idx\"]) + \".jpg\"\n",
    "        # Detected bounding boxes with viola-jones\n",
    "        detected_face = detect_faces(path)\n",
    "        image_ids.append(dataset.iloc[i][\"identity\"])\n",
    "        image = preprocess_image(path, detected_face, useBoundingBox=useBoundingBox)\n",
    "        feature_vectors.append(extract_features_dense_sift(image))\n",
    "\n",
    "    return np.array(feature_vectors), image_ids"
   ]
  },
  {
   "cell_type": "code",
   "execution_count": 187,
   "metadata": {},
   "outputs": [],
   "source": [
    "# Load the dataset\n",
    "df = pd.read_csv('CelebA-HQ-small.csv')\n",
    "# Get the train split\n",
    "df_train = df.loc[df[\"split\"] == \"train\"]"
   ]
  },
  {
   "cell_type": "code",
   "execution_count": 184,
   "metadata": {},
   "outputs": [],
   "source": [
    "feature_vecs,image_ids = extract_all_feature_vectors_dense_sift(df_train)\n",
    "df = get_scores_mtx(feature_vecs, image_ids)\n",
    "cmc,r1,r2 = get_cmc(df, image_ids)"
   ]
  },
  {
   "cell_type": "code",
   "execution_count": 185,
   "metadata": {},
   "outputs": [
    {
     "name": "stdout",
     "output_type": "stream",
     "text": [
      "0.5347368421052632 0.7178947368421053\n"
     ]
    },
    {
     "data": {
      "image/png": "[encoded data removed]",
      "text/plain": [
       "<Figure size 640x480 with 1 Axes>"
      ]
     },
     "metadata": {},
     "output_type": "display_data"
    }
   ],
   "source": [
    "plt.plot(cmc)\n",
    "print(r1,r2)"
   ]
  },
  {
   "cell_type": "code",
   "execution_count": 183,
   "metadata": {},
   "outputs": [
    {
     "name": "stdout",
     "output_type": "stream",
     "text": [
      "0.5052631578947369 0.7031578947368421\n"
     ]
    },
    {
     "data": {
      "image/png": "[encoded data removed]",
      "text/plain": [
       "<Figure size 640x480 with 1 Axes>"
      ]
     },
     "metadata": {},
     "output_type": "display_data"
    }
   ],
   "source": [
    "plt.plot(cmc)\n",
    "print(r1,r2)"
   ]
  },
  {
   "cell_type": "code",
   "execution_count": null,
   "metadata": {},
   "outputs": [
    {
     "data": {
      "text/plain": [
       "412"
      ]
     },
     "execution_count": 194,
     "metadata": {},
     "output_type": "execute_result"
    }
   ],
   "source": [
    "len(df_tes)"
   ]
  }
 ],
 "metadata": {
  "kernelspec": {
   "display_name": "ibb_face_recognition",
   "language": "python",
   "name": "python3"
  },
  "language_info": {
   "codemirror_mode": {
    "name": "ipython",
    "version": 3
   },
   "file_extension": ".py",
   "mimetype": "text/x-python",
   "name": "python",
   "nbconvert_exporter": "python",
   "pygments_lexer": "ipython3",
   "version": "3.9.20"
  }
 },
 "nbformat": 4,
 "nbformat_minor": 2
}
