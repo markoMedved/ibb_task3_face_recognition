{
 "cells": [
  {
   "cell_type": "markdown",
   "metadata": {},
   "source": [
    "Implemented viola_joens\n",
    "\n",
    "-check with IoU, and set optimal parameters\n",
    "\n",
    "What is IoU:\n",
    "IoU = (Area of Intersection of bounding boxes) / (Area of Union of bounding boxes)\n",
    "\n"
   ]
  },
  {
   "cell_type": "markdown",
   "metadata": {},
   "source": [
    "Optimizing parameters using using grid search:\n",
    "-> try all different combinations of parameters"
   ]
  },
  {
   "cell_type": "markdown",
   "metadata": {},
   "source": [
    "Started LBP -probably not working - FINISH !!!!"
   ]
  },
  {
   "cell_type": "markdown",
   "metadata": {},
   "source": [
    "OTHER METHODS TO TRY:\n",
    "\n",
    "Dlibs neural net - nope needs dependencies\n",
    "\n",
    "Histogram of oriented gradients\n",
    "\n",
    "Dense SIFT (using a fixed grid instead of keypoint detectors).\n",
    "\n",
    "Eigenfaces\n",
    "\n",
    "Fisherfaces"
   ]
  }
 ],
 "metadata": {
  "language_info": {
   "name": "python"
  }
 },
 "nbformat": 4,
 "nbformat_minor": 2
}
