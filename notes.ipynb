{
 "cells": [
  {
   "cell_type": "markdown",
   "metadata": {},
   "source": [
    "# AFTER HOG GRID SEARCH DONE\n",
    "\n",
    "`-> SAVE ALL MATRICES`\n",
    "\n",
    "`-> GO THE GRID SEARCH FOR DENSE SIFT`\n",
    "\n",
    "`-> PLOT THE CMCS WITH BOUNDING BOXES`\n",
    "\n",
    "`-> THROUGH THE NIGHT DO THE GRID SEARCH FOR HOG WITHOUT BOXES - HOWEVER TAKE LESS POSSIBLE PARAMS`"
   ]
  }
 ],
 "metadata": {
  "kernelspec": {
   "display_name": "ibb_face_recognition",
   "language": "python",
   "name": "python3"
  },
  "language_info": {
   "name": "python",
   "version": "3.9.20"
  }
 },
 "nbformat": 4,
 "nbformat_minor": 2
}
