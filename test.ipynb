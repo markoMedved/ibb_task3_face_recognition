{
 "cells": [
  {
   "cell_type": "code",
   "execution_count": 7,
   "metadata": {},
   "outputs": [],
   "source": [
    "import cv2\n",
    "import numpy as np\n",
    "from skimage.feature import local_binary_pattern\n",
    "from skimage.feature import hog"
   ]
  },
  {
   "cell_type": "code",
   "execution_count": null,
   "metadata": {},
   "outputs": [
    {
     "name": "stdout",
     "output_type": "stream",
     "text": [
      "(580644,)\n"
     ]
    }
   ],
   "source": [
    "#read image\n",
    "image_path = \"data/112.jpg\"\n",
    "image = cv2.imread(image_path,cv2.IMREAD_GRAYSCALE)\n",
    "\n",
    "orientatins=9\n",
    "piexels_per_cell = (8,8)\n",
    "cells_per_block = (2,2)\n",
    "\n",
    "features = hog(image, orientations=orientatins, pixels_per_cell=piexels_per_cell, cells_per_block=cells_per_block)\n",
    "print(features.shape)"
   ]
  },
  {
   "cell_type": "code",
   "execution_count": null,
   "metadata": {},
   "outputs": [],
   "source": []
  }
 ],
 "metadata": {
  "kernelspec": {
   "display_name": "ibb_face_recognition",
   "language": "python",
   "name": "python3"
  },
  "language_info": {
   "codemirror_mode": {
    "name": "ipython",
    "version": 3
   },
   "file_extension": ".py",
   "mimetype": "text/x-python",
   "name": "python",
   "nbconvert_exporter": "python",
   "pygments_lexer": "ipython3",
   "version": "3.9.20"
  }
 },
 "nbformat": 4,
 "nbformat_minor": 2
}
